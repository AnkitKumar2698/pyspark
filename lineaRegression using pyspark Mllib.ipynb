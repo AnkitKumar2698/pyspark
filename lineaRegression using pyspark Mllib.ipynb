{
  "nbformat": 4,
  "nbformat_minor": 0,
  "metadata": {
    "colab": {
      "name": "lineaRegression.ipynb",
      "provenance": [],
      "authorship_tag": "ABX9TyN8UKo10rO5MzPbdN5QwH00",
      "include_colab_link": true
    },
    "kernelspec": {
      "name": "python3",
      "display_name": "Python 3"
    },
    "language_info": {
      "name": "python"
    }
  },
  "cells": [
    {
      "cell_type": "markdown",
      "metadata": {
        "id": "view-in-github",
        "colab_type": "text"
      },
      "source": [
        "<a href=\"https://colab.research.google.com/github/AnkitKumar2698/pyspark/blob/master/lineaRegression%20using%20pyspark%20Mllib.ipynb\" target=\"_parent\"><img src=\"https://colab.research.google.com/assets/colab-badge.svg\" alt=\"Open In Colab\"/></a>"
      ]
    },
    {
      "cell_type": "code",
      "execution_count": null,
      "metadata": {
        "colab": {
          "base_uri": "https://localhost:8080/"
        },
        "id": "lHb6DWNgLOTM",
        "outputId": "8ef6f48e-d594-45f3-8283-6a0b8a75b909"
      },
      "outputs": [
        {
          "output_type": "stream",
          "name": "stdout",
          "text": [
            "Collecting pyspark\n",
            "  Downloading pyspark-3.2.0.tar.gz (281.3 MB)\n",
            "\u001b[K     |████████████████████████████████| 281.3 MB 38 kB/s \n",
            "\u001b[?25hCollecting py4j==0.10.9.2\n",
            "  Downloading py4j-0.10.9.2-py2.py3-none-any.whl (198 kB)\n",
            "\u001b[K     |████████████████████████████████| 198 kB 38.4 MB/s \n",
            "\u001b[?25hBuilding wheels for collected packages: pyspark\n",
            "  Building wheel for pyspark (setup.py) ... \u001b[?25l\u001b[?25hdone\n",
            "  Created wheel for pyspark: filename=pyspark-3.2.0-py2.py3-none-any.whl size=281805912 sha256=7863a5023eebb3b3945d81a724e7dad529d7fccbd1cc1f8fe9b5536d60fc118d\n",
            "  Stored in directory: /root/.cache/pip/wheels/0b/de/d2/9be5d59d7331c6c2a7c1b6d1a4f463ce107332b1ecd4e80718\n",
            "Successfully built pyspark\n",
            "Installing collected packages: py4j, pyspark\n",
            "Successfully installed py4j-0.10.9.2 pyspark-3.2.0\n"
          ]
        }
      ],
      "source": [
        "!pip install pyspark"
      ]
    },
    {
      "cell_type": "code",
      "source": [
        "import pyspark"
      ],
      "metadata": {
        "id": "LWMC4st2RNGe"
      },
      "execution_count": null,
      "outputs": []
    },
    {
      "cell_type": "code",
      "source": [
        "from pyspark.sql import SparkSession"
      ],
      "metadata": {
        "id": "ga83CuACRl4A"
      },
      "execution_count": null,
      "outputs": []
    },
    {
      "cell_type": "code",
      "source": [
        "spark=SparkSession.builder.appName('pepcoding').getOrCreate()"
      ],
      "metadata": {
        "id": "_I7UzP9xRpTT"
      },
      "execution_count": null,
      "outputs": []
    },
    {
      "cell_type": "code",
      "source": [
        "df=spark.read.option(\"header\",\"true\").csv(\"diamonds.csv\")"
      ],
      "metadata": {
        "id": "JuqopASeTN2q"
      },
      "execution_count": null,
      "outputs": []
    },
    {
      "cell_type": "code",
      "source": [
        "df.show()"
      ],
      "metadata": {
        "colab": {
          "base_uri": "https://localhost:8080/"
        },
        "id": "RA8zjojNS9R3",
        "outputId": "efde2cf1-42e1-46dc-9e1e-894a6163dba5"
      },
      "execution_count": null,
      "outputs": [
        {
          "output_type": "stream",
          "name": "stdout",
          "text": [
            "+---+-----+---------+-----+-------+-----+-----+-----+----+----+----+\n",
            "|_c0|carat|      cut|color|clarity|depth|table|price|   x|   y|   z|\n",
            "+---+-----+---------+-----+-------+-----+-----+-----+----+----+----+\n",
            "|  1| 0.23|    Ideal|    E|    SI2| 61.5|   55|  326|3.95|3.98|2.43|\n",
            "|  2| 0.21|  Premium|    E|    SI1| 59.8|   61|  326|3.89|3.84|2.31|\n",
            "|  3| 0.23|     Good|    E|    VS1| 56.9|   65|  327|4.05|4.07|2.31|\n",
            "|  4| 0.29|  Premium|    I|    VS2| 62.4|   58|  334| 4.2|4.23|2.63|\n",
            "|  5| 0.31|     Good|    J|    SI2| 63.3|   58|  335|4.34|4.35|2.75|\n",
            "|  6| 0.24|Very Good|    J|   VVS2| 62.8|   57|  336|3.94|3.96|2.48|\n",
            "|  7| 0.24|Very Good|    I|   VVS1| 62.3|   57|  336|3.95|3.98|2.47|\n",
            "|  8| 0.26|Very Good|    H|    SI1| 61.9|   55|  337|4.07|4.11|2.53|\n",
            "|  9| 0.22|     Fair|    E|    VS2| 65.1|   61|  337|3.87|3.78|2.49|\n",
            "| 10| 0.23|Very Good|    H|    VS1| 59.4|   61|  338|   4|4.05|2.39|\n",
            "| 11|  0.3|     Good|    J|    SI1|   64|   55|  339|4.25|4.28|2.73|\n",
            "| 12| 0.23|    Ideal|    J|    VS1| 62.8|   56|  340|3.93| 3.9|2.46|\n",
            "| 13| 0.22|  Premium|    F|    SI1| 60.4|   61|  342|3.88|3.84|2.33|\n",
            "| 14| 0.31|    Ideal|    J|    SI2| 62.2|   54|  344|4.35|4.37|2.71|\n",
            "| 15|  0.2|  Premium|    E|    SI2| 60.2|   62|  345|3.79|3.75|2.27|\n",
            "| 16| 0.32|  Premium|    E|     I1| 60.9|   58|  345|4.38|4.42|2.68|\n",
            "| 17|  0.3|    Ideal|    I|    SI2|   62|   54|  348|4.31|4.34|2.68|\n",
            "| 18|  0.3|     Good|    J|    SI1| 63.4|   54|  351|4.23|4.29| 2.7|\n",
            "| 19|  0.3|     Good|    J|    SI1| 63.8|   56|  351|4.23|4.26|2.71|\n",
            "| 20|  0.3|Very Good|    J|    SI1| 62.7|   59|  351|4.21|4.27|2.66|\n",
            "+---+-----+---------+-----+-------+-----+-----+-----+----+----+----+\n",
            "only showing top 20 rows\n",
            "\n"
          ]
        }
      ]
    },
    {
      "cell_type": "code",
      "source": [
        "featured_data=df.drop('_c0','cut','color','clarity')"
      ],
      "metadata": {
        "id": "iX4oCdXPTavO"
      },
      "execution_count": null,
      "outputs": []
    },
    {
      "cell_type": "code",
      "source": [
        "featured_data.show()"
      ],
      "metadata": {
        "colab": {
          "base_uri": "https://localhost:8080/"
        },
        "id": "9QlMAk75Troc",
        "outputId": "e68bba85-6031-48cc-9d8f-cabc79760f3c"
      },
      "execution_count": null,
      "outputs": [
        {
          "output_type": "stream",
          "name": "stdout",
          "text": [
            "+-----+-----+-----+-----+----+----+----+\n",
            "|carat|depth|table|price|   x|   y|   z|\n",
            "+-----+-----+-----+-----+----+----+----+\n",
            "| 0.23| 61.5|   55|  326|3.95|3.98|2.43|\n",
            "| 0.21| 59.8|   61|  326|3.89|3.84|2.31|\n",
            "| 0.23| 56.9|   65|  327|4.05|4.07|2.31|\n",
            "| 0.29| 62.4|   58|  334| 4.2|4.23|2.63|\n",
            "| 0.31| 63.3|   58|  335|4.34|4.35|2.75|\n",
            "| 0.24| 62.8|   57|  336|3.94|3.96|2.48|\n",
            "| 0.24| 62.3|   57|  336|3.95|3.98|2.47|\n",
            "| 0.26| 61.9|   55|  337|4.07|4.11|2.53|\n",
            "| 0.22| 65.1|   61|  337|3.87|3.78|2.49|\n",
            "| 0.23| 59.4|   61|  338|   4|4.05|2.39|\n",
            "|  0.3|   64|   55|  339|4.25|4.28|2.73|\n",
            "| 0.23| 62.8|   56|  340|3.93| 3.9|2.46|\n",
            "| 0.22| 60.4|   61|  342|3.88|3.84|2.33|\n",
            "| 0.31| 62.2|   54|  344|4.35|4.37|2.71|\n",
            "|  0.2| 60.2|   62|  345|3.79|3.75|2.27|\n",
            "| 0.32| 60.9|   58|  345|4.38|4.42|2.68|\n",
            "|  0.3|   62|   54|  348|4.31|4.34|2.68|\n",
            "|  0.3| 63.4|   54|  351|4.23|4.29| 2.7|\n",
            "|  0.3| 63.8|   56|  351|4.23|4.26|2.71|\n",
            "|  0.3| 62.7|   59|  351|4.21|4.27|2.66|\n",
            "+-----+-----+-----+-----+----+----+----+\n",
            "only showing top 20 rows\n",
            "\n"
          ]
        }
      ]
    },
    {
      "cell_type": "code",
      "source": [
        "featured_data.printSchema()"
      ],
      "metadata": {
        "colab": {
          "base_uri": "https://localhost:8080/"
        },
        "id": "ktQCfwSJTvLC",
        "outputId": "37a9d80d-4620-4b20-8019-609e195cbd1a"
      },
      "execution_count": null,
      "outputs": [
        {
          "output_type": "stream",
          "name": "stdout",
          "text": [
            "root\n",
            " |-- carat: string (nullable = true)\n",
            " |-- depth: string (nullable = true)\n",
            " |-- table: string (nullable = true)\n",
            " |-- price: string (nullable = true)\n",
            " |-- x: string (nullable = true)\n",
            " |-- y: string (nullable = true)\n",
            " |-- z: string (nullable = true)\n",
            "\n"
          ]
        }
      ]
    },
    {
      "cell_type": "code",
      "source": [
        "from pyspark.sql.types import IntegerType\n",
        "from pyspark.sql.types import DoubleType\n",
        "featured_data=featured_data.withColumn('carat',featured_data['carat'].cast(DoubleType()))\n",
        "featured_data=featured_data.withColumn('depth',featured_data['depth'].cast(DoubleType()))"
      ],
      "metadata": {
        "id": "A4h0GIz-T0vp"
      },
      "execution_count": null,
      "outputs": []
    },
    {
      "cell_type": "code",
      "source": [
        "\n",
        "featured_data=featured_data.withColumn('table',featured_data['table'].cast(IntegerType()))\n",
        "featured_data=featured_data.withColumn('price',featured_data['price'].cast(IntegerType()))\n",
        "featured_data=featured_data.withColumn('x',featured_data['x'].cast(DoubleType()))\n",
        "featured_data=featured_data.withColumn('y',featured_data['y'].cast(DoubleType()))\n",
        "featured_data=featured_data.withColumn('z',featured_data['z'].cast(DoubleType()))"
      ],
      "metadata": {
        "id": "dBKZ6cqyUlFG"
      },
      "execution_count": null,
      "outputs": []
    },
    {
      "cell_type": "code",
      "source": [
        "featured_data.show()"
      ],
      "metadata": {
        "colab": {
          "base_uri": "https://localhost:8080/"
        },
        "id": "UzTK9HFxVJY7",
        "outputId": "d66d751d-fbed-4a4b-9e9b-104f4238ccb9"
      },
      "execution_count": null,
      "outputs": [
        {
          "output_type": "stream",
          "name": "stdout",
          "text": [
            "+-----+-----+-----+-----+----+----+----+\n",
            "|carat|depth|table|price|   x|   y|   z|\n",
            "+-----+-----+-----+-----+----+----+----+\n",
            "| 0.23| 61.5|   55|  326|3.95|3.98|2.43|\n",
            "| 0.21| 59.8|   61|  326|3.89|3.84|2.31|\n",
            "| 0.23| 56.9|   65|  327|4.05|4.07|2.31|\n",
            "| 0.29| 62.4|   58|  334| 4.2|4.23|2.63|\n",
            "| 0.31| 63.3|   58|  335|4.34|4.35|2.75|\n",
            "| 0.24| 62.8|   57|  336|3.94|3.96|2.48|\n",
            "| 0.24| 62.3|   57|  336|3.95|3.98|2.47|\n",
            "| 0.26| 61.9|   55|  337|4.07|4.11|2.53|\n",
            "| 0.22| 65.1|   61|  337|3.87|3.78|2.49|\n",
            "| 0.23| 59.4|   61|  338| 4.0|4.05|2.39|\n",
            "|  0.3| 64.0|   55|  339|4.25|4.28|2.73|\n",
            "| 0.23| 62.8|   56|  340|3.93| 3.9|2.46|\n",
            "| 0.22| 60.4|   61|  342|3.88|3.84|2.33|\n",
            "| 0.31| 62.2|   54|  344|4.35|4.37|2.71|\n",
            "|  0.2| 60.2|   62|  345|3.79|3.75|2.27|\n",
            "| 0.32| 60.9|   58|  345|4.38|4.42|2.68|\n",
            "|  0.3| 62.0|   54|  348|4.31|4.34|2.68|\n",
            "|  0.3| 63.4|   54|  351|4.23|4.29| 2.7|\n",
            "|  0.3| 63.8|   56|  351|4.23|4.26|2.71|\n",
            "|  0.3| 62.7|   59|  351|4.21|4.27|2.66|\n",
            "+-----+-----+-----+-----+----+----+----+\n",
            "only showing top 20 rows\n",
            "\n"
          ]
        }
      ]
    },
    {
      "cell_type": "code",
      "source": [
        "featured_data.printSchema()"
      ],
      "metadata": {
        "colab": {
          "base_uri": "https://localhost:8080/"
        },
        "id": "UmifEqwYVLr4",
        "outputId": "1b4327e4-4587-403b-c1db-8fbb5c46c038"
      },
      "execution_count": null,
      "outputs": [
        {
          "output_type": "stream",
          "name": "stdout",
          "text": [
            "root\n",
            " |-- carat: double (nullable = true)\n",
            " |-- depth: double (nullable = true)\n",
            " |-- table: integer (nullable = true)\n",
            " |-- price: integer (nullable = true)\n",
            " |-- x: double (nullable = true)\n",
            " |-- y: double (nullable = true)\n",
            " |-- z: double (nullable = true)\n",
            "\n"
          ]
        }
      ]
    },
    {
      "cell_type": "code",
      "source": [
        "featured_data=featured_data.na.drop()"
      ],
      "metadata": {
        "id": "H-H-IFjpVWZR"
      },
      "execution_count": null,
      "outputs": []
    },
    {
      "cell_type": "code",
      "source": [
        "from pyspark.ml.feature import VectorAssembler"
      ],
      "metadata": {
        "id": "fxtKKsK4VdaJ"
      },
      "execution_count": null,
      "outputs": []
    },
    {
      "cell_type": "code",
      "source": [
        "feature_Data_raw=VectorAssembler(inputCols=['carat','depth','table','x','y','z','price'],outputCol='Independent')\n",
        "output=feature_Data_raw.transform(featured_data)"
      ],
      "metadata": {
        "id": "JqtovtOTWHQ0"
      },
      "execution_count": null,
      "outputs": []
    },
    {
      "cell_type": "code",
      "source": [
        "output.show()"
      ],
      "metadata": {
        "colab": {
          "base_uri": "https://localhost:8080/"
        },
        "id": "xDggCAWlWxpc",
        "outputId": "a237cf5d-f54b-468a-8fdb-9e6d675eff35"
      },
      "execution_count": null,
      "outputs": [
        {
          "output_type": "stream",
          "name": "stdout",
          "text": [
            "+-----+-----+-----+-----+----+----+----+--------------------+\n",
            "|carat|depth|table|price|   x|   y|   z|         Independent|\n",
            "+-----+-----+-----+-----+----+----+----+--------------------+\n",
            "| 0.23| 61.5|   55|  326|3.95|3.98|2.43|[0.23,61.5,55.0,3...|\n",
            "| 0.21| 59.8|   61|  326|3.89|3.84|2.31|[0.21,59.8,61.0,3...|\n",
            "| 0.23| 56.9|   65|  327|4.05|4.07|2.31|[0.23,56.9,65.0,4...|\n",
            "| 0.29| 62.4|   58|  334| 4.2|4.23|2.63|[0.29,62.4,58.0,4...|\n",
            "| 0.31| 63.3|   58|  335|4.34|4.35|2.75|[0.31,63.3,58.0,4...|\n",
            "| 0.24| 62.8|   57|  336|3.94|3.96|2.48|[0.24,62.8,57.0,3...|\n",
            "| 0.24| 62.3|   57|  336|3.95|3.98|2.47|[0.24,62.3,57.0,3...|\n",
            "| 0.26| 61.9|   55|  337|4.07|4.11|2.53|[0.26,61.9,55.0,4...|\n",
            "| 0.22| 65.1|   61|  337|3.87|3.78|2.49|[0.22,65.1,61.0,3...|\n",
            "| 0.23| 59.4|   61|  338| 4.0|4.05|2.39|[0.23,59.4,61.0,4...|\n",
            "|  0.3| 64.0|   55|  339|4.25|4.28|2.73|[0.3,64.0,55.0,4....|\n",
            "| 0.23| 62.8|   56|  340|3.93| 3.9|2.46|[0.23,62.8,56.0,3...|\n",
            "| 0.22| 60.4|   61|  342|3.88|3.84|2.33|[0.22,60.4,61.0,3...|\n",
            "| 0.31| 62.2|   54|  344|4.35|4.37|2.71|[0.31,62.2,54.0,4...|\n",
            "|  0.2| 60.2|   62|  345|3.79|3.75|2.27|[0.2,60.2,62.0,3....|\n",
            "| 0.32| 60.9|   58|  345|4.38|4.42|2.68|[0.32,60.9,58.0,4...|\n",
            "|  0.3| 62.0|   54|  348|4.31|4.34|2.68|[0.3,62.0,54.0,4....|\n",
            "|  0.3| 63.4|   54|  351|4.23|4.29| 2.7|[0.3,63.4,54.0,4....|\n",
            "|  0.3| 63.8|   56|  351|4.23|4.26|2.71|[0.3,63.8,56.0,4....|\n",
            "|  0.3| 62.7|   59|  351|4.21|4.27|2.66|[0.3,62.7,59.0,4....|\n",
            "+-----+-----+-----+-----+----+----+----+--------------------+\n",
            "only showing top 20 rows\n",
            "\n"
          ]
        }
      ]
    },
    {
      "cell_type": "code",
      "source": [
        "final_data=output.select('Independent','price')"
      ],
      "metadata": {
        "id": "WA0D919JW5S6"
      },
      "execution_count": null,
      "outputs": []
    },
    {
      "cell_type": "code",
      "source": [
        "final_data.show()"
      ],
      "metadata": {
        "colab": {
          "base_uri": "https://localhost:8080/"
        },
        "id": "F28duarhXLdF",
        "outputId": "14d7cff8-67cd-41b3-9456-8506302c5268"
      },
      "execution_count": null,
      "outputs": [
        {
          "output_type": "stream",
          "name": "stdout",
          "text": [
            "+--------------------+-----+\n",
            "|         Independent|price|\n",
            "+--------------------+-----+\n",
            "|[0.23,61.5,55.0,3...|  326|\n",
            "|[0.21,59.8,61.0,3...|  326|\n",
            "|[0.23,56.9,65.0,4...|  327|\n",
            "|[0.29,62.4,58.0,4...|  334|\n",
            "|[0.31,63.3,58.0,4...|  335|\n",
            "|[0.24,62.8,57.0,3...|  336|\n",
            "|[0.24,62.3,57.0,3...|  336|\n",
            "|[0.26,61.9,55.0,4...|  337|\n",
            "|[0.22,65.1,61.0,3...|  337|\n",
            "|[0.23,59.4,61.0,4...|  338|\n",
            "|[0.3,64.0,55.0,4....|  339|\n",
            "|[0.23,62.8,56.0,3...|  340|\n",
            "|[0.22,60.4,61.0,3...|  342|\n",
            "|[0.31,62.2,54.0,4...|  344|\n",
            "|[0.2,60.2,62.0,3....|  345|\n",
            "|[0.32,60.9,58.0,4...|  345|\n",
            "|[0.3,62.0,54.0,4....|  348|\n",
            "|[0.3,63.4,54.0,4....|  351|\n",
            "|[0.3,63.8,56.0,4....|  351|\n",
            "|[0.3,62.7,59.0,4....|  351|\n",
            "+--------------------+-----+\n",
            "only showing top 20 rows\n",
            "\n"
          ]
        }
      ]
    },
    {
      "cell_type": "code",
      "source": [
        "from pyspark.ml.regression import LinearRegression\n",
        "train_Data,test_Data=final_data.randomSplit([0.75,0.25])\n",
        "regressor=LinearRegression(featuresCol='Independent',labelCol='price')\n",
        "regressor=regressor.fit(train_Data)"
      ],
      "metadata": {
        "id": "wpRr5JoaXNN0"
      },
      "execution_count": null,
      "outputs": []
    },
    {
      "cell_type": "code",
      "source": [
        "regressor.coefficients"
      ],
      "metadata": {
        "colab": {
          "base_uri": "https://localhost:8080/"
        },
        "id": "9EO5x8HnYNLm",
        "outputId": "b0198efd-e298-4a79-9025-d6f81634934a"
      },
      "execution_count": null,
      "outputs": [
        {
          "output_type": "execute_result",
          "data": {
            "text/plain": [
              "DenseVector([0.0, -0.0, -0.0, -0.0, -0.0, 0.0, 1.0])"
            ]
          },
          "metadata": {},
          "execution_count": 56
        }
      ]
    },
    {
      "cell_type": "code",
      "source": [
        "regressor.intercept"
      ],
      "metadata": {
        "colab": {
          "base_uri": "https://localhost:8080/"
        },
        "id": "oMTCvnMgYko0",
        "outputId": "54108797-1e68-4bdb-d180-a8b98a1ac378"
      },
      "execution_count": null,
      "outputs": [
        {
          "output_type": "execute_result",
          "data": {
            "text/plain": [
              "5.733955066724969e-09"
            ]
          },
          "metadata": {},
          "execution_count": 59
        }
      ]
    },
    {
      "cell_type": "code",
      "source": [
        "result=regressor.evaluate(test_Data)"
      ],
      "metadata": {
        "id": "VmxamhadZGOE"
      },
      "execution_count": null,
      "outputs": []
    },
    {
      "cell_type": "code",
      "source": [
        "result.predictions.show()"
      ],
      "metadata": {
        "colab": {
          "base_uri": "https://localhost:8080/"
        },
        "id": "NHFVZp2GZNhW",
        "outputId": "412710e2-2e96-4aa6-920d-1e44477c050c"
      },
      "execution_count": null,
      "outputs": [
        {
          "output_type": "stream",
          "name": "stderr",
          "text": [
            "/usr/local/lib/python3.7/dist-packages/pyspark/sql/context.py:127: FutureWarning: Deprecated in 3.0.0. Use SparkSession.builder.getOrCreate() instead.\n",
            "  FutureWarning\n"
          ]
        },
        {
          "output_type": "stream",
          "name": "stdout",
          "text": [
            "+--------------------+-----+------------------+\n",
            "|         Independent|price|        prediction|\n",
            "+--------------------+-----+------------------+\n",
            "|[0.2,59.0,60.0,3....|  367| 367.0000000001767|\n",
            "|[0.2,61.1,59.0,3....|  367| 367.0000000000578|\n",
            "|[0.2,63.4,59.0,3....|  367|366.99999999992724|\n",
            "|[0.21,58.3,59.0,3...|  386|386.00000000020543|\n",
            "|[0.21,59.8,61.0,3...|  326|326.00000000011903|\n",
            "|[0.21,60.5,59.0,3...|  386| 386.0000000000875|\n",
            "|[0.22,61.7,60.0,3...|  470| 470.0000000000135|\n",
            "|[0.23,58.0,60.0,4...|  465| 465.0000000002241|\n",
            "|[0.23,58.1,63.0,4...|  468|468.00000000021646|\n",
            "|[0.23,58.2,59.0,4...|  402|402.00000000021413|\n",
            "|[0.23,58.9,60.0,4...|  549| 549.0000000001584|\n",
            "|[0.23,58.9,60.0,4...|  688| 688.0000000001576|\n",
            "|[0.23,59.2,61.0,4...|  389|389.00000000016263|\n",
            "|[0.23,59.2,61.0,4...|  500| 500.0000000001455|\n",
            "|[0.23,59.4,59.0,4...|  530| 530.0000000001543|\n",
            "|[0.23,59.4,61.0,4...|  434| 434.0000000001314|\n",
            "|[0.23,59.5,58.0,4...|  530|   530.00000000015|\n",
            "|[0.23,59.6,61.0,4...|  640| 640.0000000001231|\n",
            "|[0.23,59.7,58.0,3...|  458| 458.0000000001468|\n",
            "|[0.23,59.9,55.0,3...|  682|  682.000000000149|\n",
            "+--------------------+-----+------------------+\n",
            "only showing top 20 rows\n",
            "\n"
          ]
        }
      ]
    },
    {
      "cell_type": "code",
      "source": [
        ""
      ],
      "metadata": {
        "id": "DCB1LY_nZQ6m"
      },
      "execution_count": null,
      "outputs": []
    }
  ]
}